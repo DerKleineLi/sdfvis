{
 "cells": [
  {
   "cell_type": "code",
   "execution_count": 1,
   "metadata": {},
   "outputs": [],
   "source": [
    "%matplotlib widget\n",
    "import numpy as np\n",
    "import matplotlib.pyplot as plt\n",
    "from matplotlib import cm"
   ]
  },
  {
   "cell_type": "code",
   "execution_count": 2,
   "metadata": {},
   "outputs": [],
   "source": [
    "def circle(x, y, cx, cy, d):\n",
    "    x = x - cx\n",
    "    y = y - cy\n",
    "    return np.sqrt(x**2 + y**2) - d / 2"
   ]
  },
  {
   "cell_type": "code",
   "execution_count": 3,
   "metadata": {},
   "outputs": [],
   "source": [
    "def rect(x, y, cx, cy, w, h, rot):\n",
    "    rot_matrix = np.array([[np.cos(rot), np.sin(rot)], [-np.sin(rot), np.cos(rot)]])\n",
    "    x, y = x - cx, y - cy\n",
    "    new_x = rot_matrix[0, 0] * x + rot_matrix[0, 1] * y\n",
    "    new_y = rot_matrix[1, 0] * x + rot_matrix[1, 1] * y\n",
    "    x = np.abs(new_x) - w / 2\n",
    "    y = np.abs(new_y) - h / 2\n",
    "    sdf = np.maximum(x, y)\n",
    "    mask = np.logical_and(x > 0, y > 0)\n",
    "    sdf[mask] = np.sqrt(x[mask] ** 2 + y[mask] ** 2)\n",
    "    return sdf"
   ]
  },
  {
   "cell_type": "code",
   "execution_count": 4,
   "metadata": {},
   "outputs": [
    {
     "data": {
      "application/vnd.jupyter.widget-view+json": {
       "model_id": "2983d8f4478c4665b23b775791483091",
       "version_major": 2,
       "version_minor": 0
      },
      "image/png": "[encoded data removed]",
      "text/html": [
       "\n",
       "            <div style=\"display: inline-block;\">\n",
       "                <div class=\"jupyter-widgets widget-label\" style=\"text-align: center;\">\n",
       "                    Figure\n",
       "                </div>\n",
       "                <img src='data:image/png;base64,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' width=600.0/>\n",
       "            </div>\n",
       "        "
      ],
      "text/plain": [
       "Canvas(toolbar=Toolbar(toolitems=[('Home', 'Reset original view', 'home', 'home'), ('Back', 'Back to previous …"
      ]
     },
     "metadata": {},
     "output_type": "display_data"
    }
   ],
   "source": [
    "fig, ax = plt.subplots(figsize=(6, 6))\n",
    "num_samples = 200\n",
    "range = 3\n",
    "x_center = 0\n",
    "y_center = 0\n",
    "quiver_step = 10\n",
    "num_levels = 10\n",
    "\n",
    "cmap = cm.seismic\n",
    "\n",
    "circle_1 = lambda x, y: circle(x, y, 0, 0, 1)\n",
    "rect_1 = lambda x, y: rect(x, y, 0, 0, 1, 0.1, 0)\n",
    "rect_2 = lambda x, y: rect(x, y, 0.3, 1, 0.5, 0.1, -np.pi / 4)\n",
    "rect_3 = lambda x, y: rect(x, y, -0.3, 1, 0.5, 0.1, np.pi / 4)\n",
    "x = np.linspace(x_center-range/2, x_center+range/2, num_samples)\n",
    "y = np.linspace(y_center-range/2, y_center+range/2, num_samples)\n",
    "X, Y = np.meshgrid(x, y)\n",
    "# Z = np.stack([rect_1(X, Y), rect_2(X, Y), rect_3(X, Y)], axis=0).min(axis=0)\n",
    "# Z = circle_1(X,Y)\n",
    "rect_inv = lambda x, y: -rect(x, y, 0, 0, 2, 1.5, 0)\n",
    "circle_inv = lambda x, y: -circle(x, y, 0, 0, 2)\n",
    "Z = rect_inv(X,Y)\n",
    "# sdf_plot = ax.contour(X, Y, Z, num_levels)\n",
    "surface_plot = ax.contour(X,Y,Z,[0],colors=[\"red\"])\n",
    "# fig.colorbar(sdf_plot, ax=ax)\n",
    "# fig.colorbar(surface_plot, ax=ax)"
   ]
  },
  {
   "cell_type": "code",
   "execution_count": 5,
   "metadata": {},
   "outputs": [],
   "source": [
    "f_x, f_y = np.gradient(Z, range / num_samples)\n",
    "f_xx, f_xy = np.gradient(f_x, range / num_samples)\n",
    "f_yx, f_yy = np.gradient(f_y, range / num_samples)\n",
    "curvature = (f_xx*f_yy - f_xy*f_yx)/(1+f_x*f_x + f_y*f_y)\n",
    "\n",
    "magnitude = np.sqrt(f_x ** 2 + f_y ** 2)\n",
    "norm = [f_x / magnitude, f_y / magnitude]\n",
    "Figure 1\n"
   ]
  },
  {
   "cell_type": "code",
   "execution_count": 6,
   "metadata": {},
   "outputs": [
    {
     "name": "stderr",
     "output_type": "stream",
     "text": [
      "/tmp/ipykernel_3895271/2604382936.py:1: RuntimeWarning: invalid value encountered in log\n",
      "  magnitude_plot = ax.contourf(X, Y, np.log(curvature*100+1), 200)\n"
     ]
    },
    {
     "data": {
      "text/plain": [
       "<matplotlib.colorbar.Colorbar at 0x7f0ebb342f70>"
      ]
     },
     "execution_count": 6,
     "metadata": {},
     "output_type": "execute_result"
    }
   ],
   "source": [
    "magnitude_plot = ax.contourf(X, Y, np.log(curvature*100+1), 200)\n",
    "fig.colorbar(magnitude_plot, ax=ax)\n",
    "# mask = np.zeros_like(X,dtype=bool)\n",
    "# mask[::quiver_step,::quiver_step] = True\n",
    "# ax.quiver(X[mask], Y[mask], norm[1][mask], norm[0][mask])"
   ]
  },
  {
   "cell_type": "code",
   "execution_count": 7,
   "metadata": {},
   "outputs": [
    {
     "name": "stderr",
     "output_type": "stream",
     "text": [
      "/rhome/hli/.local/lib/python3.8/site-packages/traittypes/traittypes.py:97: UserWarning: Given trait value dtype \"float64\" does not match required type \"float32\". A coerced copy has been created.\n",
      "  warnings.warn(\n"
     ]
    },
    {
     "data": {
      "application/vnd.jupyter.widget-view+json": {
       "model_id": "c19cb68b5572486d91b535a2490e172f",
       "version_major": 2,
       "version_minor": 0
      },
      "text/plain": [
       "Output()"
      ]
     },
     "metadata": {},
     "output_type": "display_data"
    }
   ],
   "source": [
    "import k3d\n",
    "from k3d.colormaps import matplotlib_color_maps\n",
    "\n",
    "plt_surface = k3d.surface(Z,\n",
    "                          xmin=x_center-range/2, xmax=x_center+range/2,\n",
    "                          ymin=y_center-range/2, ymax=y_center+range/2,\n",
    "                          compression_level=9,\n",
    "                          color_map=matplotlib_color_maps.Coolwarm_r,\n",
    "                          attribute=Z, color_range=[-1, 0.5])\n",
    "\n",
    "\n",
    "plot = k3d.plot()\n",
    "plot += plt_surface\n",
    "plot.display()"
   ]
  }
 ],
 "metadata": {
  "kernelspec": {
   "display_name": "sdfstudio",
   "language": "python",
   "name": "python3"
  },
  "language_info": {
   "codemirror_mode": {
    "name": "ipython",
    "version": 3
   },
   "file_extension": ".py",
   "mimetype": "text/x-python",
   "name": "python",
   "nbconvert_exporter": "python",
   "pygments_lexer": "ipython3",
   "version": "3.8.17"
  },
  "orig_nbformat": 4
 },
 "nbformat": 4,
 "nbformat_minor": 2
}
